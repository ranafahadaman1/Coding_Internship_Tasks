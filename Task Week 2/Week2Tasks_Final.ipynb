{
 "cells": [
  {
   "cell_type": "markdown",
   "id": "65fdd8f9-b72f-4d42-848e-0f7f0903802f",
   "metadata": {},
   "source": [
    "<center>\n",
    "<h1 style=\"font-family: sans-serif\">Articicial Intelligence Community Pakistan</h1>\n",
    "<h2 style=\"font-family: sans-serif\">Coding Internship</h3>\n",
    "<h3 style=\"font-family: sans-serif\">Task Week 2</h4>\n",
    "<h4 style=\"font-family: sans-serif\">Rana Fahad Aman</h4>\n",
    "</center>"
   ]
  },
  {
   "attachments": {
    "632e3661-ef22-488c-b0fe-e687675dd9f9.PNG": {
     "image/png": "[encoded data removed]"
    }
   },
   "cell_type": "markdown",
   "id": "8dcd688f-4dd3-4d25-9620-98346492127b",
   "metadata": {},
   "source": [
    "#### The organizer of a senior citizens’ club arranges outings for the members. For each of these outings, a coach is hired, meals at a restaurant are reserved and tickets for the theatre are booked. A program is required to work out the costs and provide a printed list showing everyone on the outing.\n",
    "##### Write and test a program for the club organizer.\n",
    "<ul>\n",
    "<li> Your program must include appropriate prompts for the entry of data.\n",
    "<li> Error messages and other outputs need to be set out clearly.\n",
    "<li> All variables, constants and other identifiers must have meaningful names.\n",
    "</ul>\n",
    "\n",
    "### Task1\n",
    "##### Work out the total cost of the outing. The organizer finds out how many senior citizens would be interested in the outing. The program for TASK 1 works out the cost from this information.\n",
    "![Task1.PNG](attachment:632e3661-ef22-488c-b0fe-e687675dd9f9.PNG)\n",
    "##### The minimum number of senior citizens needed for the outing to go ahead is 10. There cannot be more than 36 senior citizens on the outing. A minimum of two carers must go on the outing with an additional carer needed if more than 24 senior citizens go on the outing. Carers do not have to pay anything for the outing. Work out the total cost and the cost per person for the senior citizens.\n",
    "\n",
    "### Task2\n",
    "##### Record who is going on the outing and how much has been paid. Using your results from TASK1, record the names of the people on the outing and the amount they have paid; include the carers on the outing. If there are spare places on the coach then extra people can be added; they are charged the same price as the other senior citizens. Calculate the total amount of money collected. Print out a list of the people on the outing.\n",
    "\n",
    "### Task3\n",
    "##### Identify the break-even point or profit that will be made on this outing. Show whether the outing has made a profit or has broken even using the estimated cost from TASK1 and the money collected from TASK2.  "
   ]
  },
  {
   "cell_type": "code",
   "execution_count": null,
   "id": "09c022b9-a4eb-4ce8-b94d-23bce12fa2eb",
   "metadata": {},
   "outputs": [
    {
     "name": "stdin",
     "output_type": "stream",
     "text": [
      "Enter number of senior citizens going to the outing ('q' to quit):  5\n"
     ]
    },
    {
     "name": "stdout",
     "output_type": "stream",
     "text": [
      "The minimum number of senior citizens needed for the outing to go ahead is 10!\n"
     ]
    },
    {
     "name": "stdin",
     "output_type": "stream",
     "text": [
      "Enter number of senior citizens going to the outing ('q' to quit):  10\n"
     ]
    },
    {
     "name": "stdout",
     "output_type": "stream",
     "text": [
      "Maximum number of extra people that can be added: 27\n"
     ]
    },
    {
     "name": "stdin",
     "output_type": "stream",
     "text": [
      "Do you want to add extra people? ('y'/'n'):  n\n"
     ]
    },
    {
     "name": "stdout",
     "output_type": "stream",
     "text": [
      "No extra people will be added.\n",
      "\n",
      "Citizens: 10\n",
      "Carers: 2\n",
      "People: 12\n",
      "Coach Hire: 150\n",
      "Cost of Meal: 14\n",
      "Cost of Ticket: 21\n",
      "\n",
      "Total amount required (excluding extra people) is 2220.\n",
      "\n",
      "The carers will not pay for their expenses.\n",
      "Each senior citizen will pay 222.0.\n",
      "\n",
      "\n",
      "<------------------------------Task 1 completed!------------------------------>\n",
      "\n"
     ]
    },
    {
     "name": "stdin",
     "output_type": "stream",
     "text": [
      "Enter the name of Citizen#1 on the outing:  a\n",
      "Enter the amount paid by a:  10\n"
     ]
    },
    {
     "name": "stdout",
     "output_type": "stream",
     "text": [
      "The amount paid by a must be at least 222.0.\n"
     ]
    },
    {
     "name": "stdin",
     "output_type": "stream",
     "text": [
      "Enter the amount paid by a:  230\n",
      "Enter the name of Citizen#2 on the outing:  s\n",
      "Enter the amount paid by s:  230\n",
      "Enter the name of Citizen#3 on the outing:  d\n",
      "Enter the amount paid by d:  230\n",
      "Enter the name of Citizen#4 on the outing:  f230\n",
      "Enter the amount paid by f230:  g230\n"
     ]
    },
    {
     "name": "stdout",
     "output_type": "stream",
     "text": [
      "The amount paid by f230 must be at least 222.0.\n"
     ]
    },
    {
     "name": "stdin",
     "output_type": "stream",
     "text": [
      "Enter the amount paid by f230:  230\n",
      "Enter the name of Citizen#5 on the outing:  g\n",
      "Enter the amount paid by g:  230\n",
      "Enter the name of Citizen#6 on the outing:  h\n",
      "Enter the amount paid by h:  230\n",
      "Enter the name of Citizen#7 on the outing:  j\n",
      "Enter the amount paid by j:  230\n",
      "Enter the name of Citizen#8 on the outing:  j\n",
      "Enter the amount paid by j:  230\n",
      "Enter the name of Citizen#9 on the outing:  k\n",
      "Enter the amount paid by k:  230\n",
      "Enter the name of Citizen#10 on the outing:  l\n",
      "Enter the amount paid by l:  230\n"
     ]
    },
    {
     "name": "stdout",
     "output_type": "stream",
     "text": [
      "Total money collected from the citizens is 2300.\n",
      "\n"
     ]
    },
    {
     "name": "stdin",
     "output_type": "stream",
     "text": [
      "Enter the name of Carer#1:  rana g \n"
     ]
    }
   ],
   "source": [
    "def calculateExpenses(citizens, carers):\n",
    "    if citizens <= 14:\n",
    "        coachHire = 150\n",
    "        costOfMeal = 14\n",
    "        costOfTicket = 21\n",
    "    elif 14 < citizens <= 24:\n",
    "        coachHire = 190\n",
    "        costOfMeal = 13.5\n",
    "        costOfTicket = 20\n",
    "    else:\n",
    "        coachHire = 225\n",
    "        costOfMeal = 13\n",
    "        costOfTicket = 19\n",
    "\n",
    "    people = citizens + carers\n",
    "    totalAmountRequired = people * (coachHire + costOfMeal + costOfTicket)\n",
    "    perCitizenAmount = totalAmountRequired / citizens if citizens > 0 else 0\n",
    "\n",
    "    return coachHire, costOfMeal, costOfTicket, people, totalAmountRequired, perCitizenAmount, carers\n",
    "\n",
    "def collectPayments(citizens, carers, perCitizenAmount):\n",
    "    namesOfCitizens = []\n",
    "    paymentByCitizens = []\n",
    "    namesOfCarers = []\n",
    "\n",
    "    for i in range(citizens):\n",
    "        name = input(f\"Enter the name of Citizen#{i + 1} on the outing: \")\n",
    "        while True:\n",
    "            amount = input(f\"Enter the amount paid by {name}: \")\n",
    "            if amount.isdigit() and int(amount) >= perCitizenAmount:\n",
    "                paymentByCitizens.append(int(amount))\n",
    "                break\n",
    "            else:\n",
    "                print(f\"The amount paid by {name} must be at least {perCitizenAmount}.\")\n",
    "        namesOfCitizens.append(name)\n",
    "\n",
    "    totalCollectedAmount = sum(paymentByCitizens)\n",
    "    print(f\"Total money collected from the citizens is {totalCollectedAmount}.\\n\")\n",
    "\n",
    "    for i in range(carers):\n",
    "        name = input(f\"Enter the name of Carer#{i + 1}: \")\n",
    "        namesOfCarers.append(name)\n",
    "    print(\"<------------------------------Task 2 completed!------------------------------>\\n\")\n",
    "    return namesOfCitizens, paymentByCitizens, namesOfCarers, totalCollectedAmount\n",
    "\n",
    "def identifyBreakEvenOrProfit(totalAmountRequired, totalCollectedAmount):\n",
    "    if totalCollectedAmount > totalAmountRequired:\n",
    "        print(f\"\\n\\nWe are in a profit of {totalCollectedAmount - totalAmountRequired}.\\n\")\n",
    "        print(\"<------------------------------Task 3 completed!------------------------------>\\n\")\n",
    "    elif totalCollectedAmount == totalAmountRequired:\n",
    "        print(\"\\n\\nWe are on the break-even point.\")\n",
    "        print(\"\\n<------------------------------Task 3 completed!------------------------------>\\n\")\n",
    "    else:\n",
    "        print(\"\\n\\nWe are at a loss in this outing.\")\n",
    "        print(\"\\n<------------------------------Task 3 completed!------------------------------>\\n\")\n",
    "\n",
    "def main():\n",
    "    while True:\n",
    "        citizensInput = input(\"Enter number of senior citizens going to the outing ('q' to quit): \")\n",
    "        if citizensInput.lower() == 'q':\n",
    "            break\n",
    "\n",
    "        if not citizensInput.isdigit():\n",
    "            print(\"Please enter a valid number.\")\n",
    "            continue\n",
    "\n",
    "        citizens = int(citizensInput)\n",
    "        if citizens < 10:\n",
    "            print(\"The minimum number of senior citizens needed for the outing to go ahead is 10!\")\n",
    "            continue\n",
    "        elif citizens > 36:\n",
    "            print(\"There cannot be more than 36 senior citizens on the outing!\")\n",
    "            continue\n",
    "\n",
    "        carers = 3 if citizens > 24 else 2\n",
    "\n",
    "        maxExtraAllowed = 39 - citizens - carers\n",
    "        print(f\"Maximum number of extra people that can be added: {maxExtraAllowed}\")\n",
    "\n",
    "        while True:\n",
    "            choice = input(\"Do you want to add extra people? ('y'/'n'): \").lower()\n",
    "            if choice == 'y':\n",
    "                extraPeopleInput = input(\n",
    "                    f\"How many extra people do you want to add? (Shouldn't be more than {maxExtraAllowed}): \")\n",
    "                if extraPeopleInput.isdigit():\n",
    "                    extraPeople = int(extraPeopleInput)\n",
    "                    if extraPeople <= maxExtraAllowed:\n",
    "                        citizens += extraPeople\n",
    "                        print(f\"{extraPeople} extra people added.\")\n",
    "                        print(\"<------------------------------Extra people added!------------------------------>\\n\")\n",
    "                        break\n",
    "                    else:\n",
    "                        print(f\"Extra people cannot exceed {maxExtraAllowed}.\")\n",
    "                else:\n",
    "                    print(\"Please enter a valid number.\")\n",
    "            elif choice == 'n':\n",
    "                print(\"No extra people will be added.\\n\")\n",
    "                break\n",
    "            else:\n",
    "                print(\"Invalid choice. Please enter 'y' or 'n'.\\n\")\n",
    "\n",
    "        coachHire, costOfMeal, costOfTicket, people, totalAmountRequired, perCitizenAmount, carers = calculateExpenses(\n",
    "            citizens, carers)\n",
    "\n",
    "        print(f\"Citizens: {citizens}\\nCarers: {carers}\\nPeople: {people}\\nCoach Hire: {coachHire}\\nCost of Meal: {costOfMeal}\\nCost of Ticket: {costOfTicket}\\n\")\n",
    "        print(f\"Total amount required (excluding extra people) is {totalAmountRequired}.\\n\")\n",
    "        print(f\"The carers will not pay for their expenses.\\nEach senior citizen will pay {perCitizenAmount}.\\n\")\n",
    "        print(\"\\n<------------------------------Task 1 completed!------------------------------>\\n\")\n",
    "\n",
    "        namesOfCitizens, paymentByCitizens, namesOfCarers, totalCollectedAmount = collectPayments(citizens,\n",
    "                                                                                                  carers,\n",
    "                                                                                                  perCitizenAmount)\n",
    "\n",
    "        for i in range(citizens):\n",
    "            print(\n",
    "                f\"<------------------->\\nCitizen#{i + 1}\\nName: {namesOfCitizens[i]}\\nAmount Paid: {paymentByCitizens[i]}\")\n",
    "\n",
    "        for i in range(carers):\n",
    "            print(f\"\\n<------------------->\\nCarer#{i + 1}\\nName: {namesOfCarers[i]}\")\n",
    "\n",
    "        print(\"\\n\\n\")\n",
    "        identifyBreakEvenOrProfit(totalAmountRequired, totalCollectedAmount)\n",
    "        break\n",
    "\n",
    "if __name__ == \"__main__\":\n",
    "    main()\n"
   ]
  }
 ],
 "metadata": {
  "kernelspec": {
   "display_name": "Python 3 (ipykernel)",
   "language": "python",
   "name": "python3"
  },
  "language_info": {
   "codemirror_mode": {
    "name": "ipython",
    "version": 3
   },
   "file_extension": ".py",
   "mimetype": "text/x-python",
   "name": "python",
   "nbconvert_exporter": "python",
   "pygments_lexer": "ipython3",
   "version": "3.12.1"
  }
 },
 "nbformat": 4,
 "nbformat_minor": 5
}
