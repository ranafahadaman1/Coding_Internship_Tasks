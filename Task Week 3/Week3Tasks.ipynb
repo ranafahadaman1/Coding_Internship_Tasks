{
 "cells": [
  {
   "cell_type": "markdown",
   "id": "64758c29-f001-4d0c-bb33-505255dc5d39",
   "metadata": {},
   "source": [
    "<center>\n",
    "<h1 style=\"font-family: sans-serif\">Articicial Intelligence Community Pakistan</h1>\n",
    "<h2 style=\"font-family: sans-serif\">Coding Internship</h3>\n",
    "<h3 style=\"font-family: sans-serif\">Task Week 3</h4>\n",
    "<h4 style=\"font-family: sans-serif\">Rana Fahad Aman</h4>\n",
    "</center>"
   ]
  },
  {
   "cell_type": "markdown",
   "id": "84e15c9b-5ac0-4073-9e03-c18a7dd7160c",
   "metadata": {},
   "source": [
    "### Record Cow Milk Yield Function"
   ]
  },
  {
   "cell_type": "code",
   "execution_count": 1,
   "id": "f61e3391-d5ca-4c32-8001-d99ece3a6974",
   "metadata": {},
   "outputs": [],
   "source": [
    "def recordMilkYield(cows):\n",
    "    \"\"\"\n",
    "    Record milk yield for each cow for 2 sessions (morning, evening) for each day of the week.\n",
    "\n",
    "    Parameters:\n",
    "    cows (dict): A dictionary containing information about cows and their milk yield records.\n",
    "\n",
    "    Returns:\n",
    "    None\n",
    "\n",
    "    Functionality:\n",
    "    This function iterates through each cow in the provided dictionary and prompts the user to input milk yields\n",
    "    for both morning and evening sessions for each day of the week. The input is validated to ensure it is a numeric value,\n",
    "    and the milk yield is stored in the cows dictionary accordingly.\n",
    "\n",
    "    \"\"\"\n",
    "\n",
    "    # Iterate through each cow in the dictionary\n",
    "    for cowId in cows.keys():\n",
    "        print(f\"Recording milk yields for Cow ID {cowId}:\")\n",
    "        \n",
    "        # Iterate through each day of the week\n",
    "        for day in [\"Monday\", \"Tuesday\", \"Wednesday\", \"Thursday\", \"Friday\", \"Saturday\", \"Sunday\"]:\n",
    "            \n",
    "            # Iterate through morning and evening sessions\n",
    "            for session in [\"Morning\", \"Evening\"]:\n",
    "                \n",
    "                # Keep prompting the user until valid input is provided\n",
    "                while True:\n",
    "                    yieldAmount = input(f\"Enter the milk yield for {session.lower()} milking session for Cow ID {cowId} on {day}: \")\n",
    "                    \n",
    "                    # Check if the input is a numeric value\n",
    "                    if yieldAmount.replace('.', '', 1).isdigit():\n",
    "                        yieldAmount = float(yieldAmount)\n",
    "                        cows[cowId][day][0 if session == \"Morning\" else 1] = yieldAmount\n",
    "                        break\n",
    "                    else:\n",
    "                        print(\"Invalid input. Please enter a numeric value.\")\n",
    "\n"
   ]
  },
  {
   "cell_type": "markdown",
   "id": "fb7a910d-0efe-4b95-ac6b-a6627d6d8133",
   "metadata": {},
   "source": [
    "### Calculate Milk Yield Statistics Function"
   ]
  },
  {
   "cell_type": "code",
   "execution_count": 2,
   "id": "4cb31dcd-4e60-412b-8430-b2fd0868fb47",
   "metadata": {},
   "outputs": [],
   "source": [
    "def calculateStatistics(cows):\n",
    "    \"\"\"\n",
    "    Calculate the total weekly volume of milk for the herd and the average yield per cow in a week.\n",
    "\n",
    "    Parameters:\n",
    "    cows (dict): A dictionary containing information about cows and their milk yield records.\n",
    "\n",
    "    Returns:\n",
    "    None\n",
    "\n",
    "    Functionality:\n",
    "    This function calculates the total weekly volume of milk produced by the herd and the average yield per cow in a week.\n",
    "    It iterates through each cow in the provided dictionary, calculates the weekly volume of milk for each cow,\n",
    "    and accumulates the total weekly volume for the entire herd. Then, it calculates the average yield per cow by\n",
    "    dividing the total volume by the number of cows.\n",
    "\n",
    "    \"\"\"\n",
    "\n",
    "    totalVolume = 0\n",
    "    totalCows = len(cows)\n",
    "    \n",
    "    # Iterate through each cow in the dictionary\n",
    "    for cowId, data in cows.items():\n",
    "        weeklyVolume = 0\n",
    "        \n",
    "        # Calculate the weekly volume for the current cow\n",
    "        for dayData in data.values():\n",
    "            weeklyVolume += sum(dayData)\n",
    "        \n",
    "        # Accumulate the total weekly volume for the herd\n",
    "        totalVolume += weeklyVolume\n",
    "        \n",
    "        # Print the weekly yield for the current cow\n",
    "        print(\"<------------------------------------>\")\n",
    "        print(f\"Cow ID {cowId} weekly yield: {weeklyVolume:.1f} litres\")\n",
    "\n",
    "    # Calculate the average yield per cow\n",
    "    averageYield = totalVolume / totalCows\n",
    "    \n",
    "    # Print the total weekly volume for the herd and the average yield per cow\n",
    "    print(f\"\\nTotal weekly volume of milk for the herd: {totalVolume:.0f} litres\")\n",
    "    print(f\"Average yield per cow in a week: {averageYield:.1f} litres\")\n"
   ]
  },
  {
   "cell_type": "markdown",
   "id": "1e923ae6-c5aa-4389-967f-bb64f6388c08",
   "metadata": {},
   "source": [
    "### Identify Most Productive and Least Productive Cows Function"
   ]
  },
  {
   "cell_type": "code",
   "execution_count": 3,
   "id": "5f2edd01-ea44-4064-b622-13cdfc51d3e6",
   "metadata": {},
   "outputs": [],
   "source": [
    "def identifyCows(cows):\n",
    "    \"\"\"\n",
    "    Identify the most productive cow and cows producing a low volume of milk.\n",
    "\n",
    "    Parameters:\n",
    "    cows (dict): A dictionary containing information about cows and their milk yield records.\n",
    "\n",
    "    Returns:\n",
    "    None\n",
    "\n",
    "    Functionality:\n",
    "    This function identifies the most productive cow based on their weekly milk yield and\n",
    "    identifies cows producing a low volume of milk (less than 12 liters for four consecutive days).\n",
    "    It iterates through each cow in the provided dictionary, calculates the weekly yield for each cow,\n",
    "    and compares it with the current most productive cow's yield. It also identifies cows with four consecutive\n",
    "    days of low milk yield (less than 12 liters each day) and adds them to the list of low-yield cows.\n",
    "\n",
    "    \"\"\"\n",
    "\n",
    "    mostProductiveCowId = None\n",
    "    mostProductiveCowYield = 0\n",
    "\n",
    "    lowYieldCows = []\n",
    "\n",
    "    # Iterate through each cow in the dictionary\n",
    "    for cowId, data in cows.items():\n",
    "        consecutiveLowYieldDays = 0\n",
    "        \n",
    "        # Check each day's yield for consecutive low yield\n",
    "        for dayData in data.values():\n",
    "            if sum(dayData) < 12:\n",
    "                consecutiveLowYieldDays += 1\n",
    "            else:\n",
    "                consecutiveLowYieldDays = 0  # Reset consecutive low yield days if yield is >= 12\n",
    "            \n",
    "            # If cow has four consecutive low yield days, add to lowYieldCows\n",
    "            if consecutiveLowYieldDays == 4:\n",
    "                lowYieldCows.append(cowId)\n",
    "                break  # No need to check further days for this cow\n",
    "        \n",
    "        # Calculate the weekly yield for the current cow\n",
    "        weeklyYield = sum(sum(dayData) for dayData in data.values())\n",
    "\n",
    "        # Update the most productive cow if necessary\n",
    "        if weeklyYield > mostProductiveCowYield:\n",
    "            mostProductiveCowId = cowId\n",
    "            mostProductiveCowYield = weeklyYield\n",
    "\n",
    "    # Print the most productive cow of the week\n",
    "    print(f\"\\nThe most productive cow this week is Cow ID {mostProductiveCowId} with a weekly yield of {mostProductiveCowYield:.1f} litres.\")\n",
    "\n",
    "    # Print low-yield cows if any\n",
    "    if lowYieldCows:\n",
    "        print(\"\\nThe following cows had four consecutive days with less than 12 litres of milk yield:\")\n",
    "        for cowId in lowYieldCows:\n",
    "            print(f\"Cow ID {cowId}\")\n"
   ]
  },
  {
   "cell_type": "markdown",
   "id": "b9238689-1ec5-4683-9da5-b81bae8531e8",
   "metadata": {},
   "source": [
    "### Main Program"
   ]
  },
  {
   "cell_type": "code",
   "execution_count": 4,
   "id": "636564e3-13cc-4adb-a0f8-2a474c62347d",
   "metadata": {},
   "outputs": [
    {
     "name": "stdin",
     "output_type": "stream",
     "text": [
      "Enter the size of the herd:  3\n",
      "<------------------------------------>\n",
      "Cow #1\n",
      "Enter a 3-digit identity code:  1111\n"
     ]
    },
    {
     "name": "stdout",
     "output_type": "stream",
     "text": [
      "The input should be a 3-digit integer identifier value!\n"
     ]
    },
    {
     "name": "stdin",
     "output_type": "stream",
     "text": [
      "<------------------------------------>\n",
      "Cow #1\n",
      "Enter a 3-digit identity code:  0\n"
     ]
    },
    {
     "name": "stdout",
     "output_type": "stream",
     "text": [
      "The input should be a 3-digit integer identifier value!\n"
     ]
    },
    {
     "name": "stdin",
     "output_type": "stream",
     "text": [
      "<------------------------------------>\n",
      "Cow #1\n",
      "Enter a 3-digit identity code:  abc\n"
     ]
    },
    {
     "name": "stdout",
     "output_type": "stream",
     "text": [
      "The input should be a 3-digit integer identifier value!\n"
     ]
    },
    {
     "name": "stdin",
     "output_type": "stream",
     "text": [
      "<------------------------------------>\n",
      "Cow #1\n",
      "Enter a 3-digit identity code:  001\n"
     ]
    },
    {
     "name": "stdout",
     "output_type": "stream",
     "text": [
      "Cow ID 001 registered successfully!\n"
     ]
    },
    {
     "name": "stdin",
     "output_type": "stream",
     "text": [
      "<------------------------------------>\n",
      "Cow #2\n",
      "Enter a 3-digit identity code:  002\n"
     ]
    },
    {
     "name": "stdout",
     "output_type": "stream",
     "text": [
      "Cow ID 002 registered successfully!\n"
     ]
    },
    {
     "name": "stdin",
     "output_type": "stream",
     "text": [
      "<------------------------------------>\n",
      "Cow #3\n",
      "Enter a 3-digit identity code:  002\n"
     ]
    },
    {
     "name": "stdout",
     "output_type": "stream",
     "text": [
      "The entered cow ID is already in the records!\n"
     ]
    },
    {
     "name": "stdin",
     "output_type": "stream",
     "text": [
      "<------------------------------------>\n",
      "Cow #3\n",
      "Enter a 3-digit identity code:  003\n"
     ]
    },
    {
     "name": "stdout",
     "output_type": "stream",
     "text": [
      "Cow ID 003 registered successfully!\n",
      "<------------------------------------>\n",
      "\n",
      " Registered Cow IDs: ['001', '002', '003'] \n",
      "\n",
      "\n"
     ]
    }
   ],
   "source": [
    "# Main program\n",
    "while True:\n",
    "    # Prompt the user to enter the size of the herd\n",
    "    sizeOfHerd = input(\"Enter the size of the herd: \")\n",
    "    \n",
    "    # Validate the input\n",
    "    if sizeOfHerd.isdigit():\n",
    "        sizeOfHerd = int(sizeOfHerd)\n",
    "        break\n",
    "    else:\n",
    "        print(\"The input should be an integer value!\")\n",
    "\n",
    "cowIds = []\n",
    "\n",
    "# Loop to register cow IDs\n",
    "for i in range(sizeOfHerd):\n",
    "    while True:\n",
    "        # Prompt the user to enter a 3-digit identity code for each cow\n",
    "        cowId = input(f\"<------------------------------------>\\nCow #{i+1}\\nEnter a 3-digit identity code: \")\n",
    "        \n",
    "        # Validate the input\n",
    "        if cowId.isdigit() and len(cowId) == 3:\n",
    "            if cowId not in cowIds:\n",
    "                print(f\"Cow ID {cowId} registered successfully!\")\n",
    "                cowIds.append(cowId)\n",
    "                break\n",
    "            else:\n",
    "                print(\"The entered cow ID is already in the records!\")\n",
    "        else:\n",
    "            print(\"The input should be a 3-digit integer identifier value!\")\n",
    "\n",
    "# Print registered cow IDs\n",
    "print(\"<------------------------------------>\\n\\n\",\"Registered Cow IDs:\", cowIds, \"\\n\\n\")\n",
    "\n",
    "# Initialize cow data structure\n",
    "cows = {cowId: {day: [0, 0] for day in [\"Monday\", \"Tuesday\", \"Wednesday\", \"Thursday\", \"Friday\", \"Saturday\", \"Sunday\"]} for cowId in cowIds}\n"
   ]
  },
  {
   "cell_type": "markdown",
   "id": "dc7edd0d-8f76-4def-9cda-9b68a68c8a22",
   "metadata": {},
   "source": [
    "#### Task1: Record the yield.\n",
    "##### Write a program for TASK 1 to record the milk yields for a week. The program records and stores the identity code number and the yield every time a cow is milked.d.\r"
   ]
  },
  {
   "cell_type": "code",
   "execution_count": 5,
   "id": "122644a5-11e5-48ae-aa89-a3a2027a10a4",
   "metadata": {},
   "outputs": [
    {
     "name": "stdout",
     "output_type": "stream",
     "text": [
      "Recording milk yields for Cow ID 001:\n"
     ]
    },
    {
     "name": "stdin",
     "output_type": "stream",
     "text": [
      "Enter the milk yield for morning milking session for Cow ID 001 on Monday:  12\n",
      "Enter the milk yield for evening milking session for Cow ID 001 on Monday:  12\n",
      "Enter the milk yield for morning milking session for Cow ID 001 on Tuesday:  12\n",
      "Enter the milk yield for evening milking session for Cow ID 001 on Tuesday:  12\n",
      "Enter the milk yield for morning milking session for Cow ID 001 on Wednesday:  12\n",
      "Enter the milk yield for evening milking session for Cow ID 001 on Wednesday:  12\n",
      "Enter the milk yield for morning milking session for Cow ID 001 on Thursday:  12\n",
      "Enter the milk yield for evening milking session for Cow ID 001 on Thursday:  12\n",
      "Enter the milk yield for morning milking session for Cow ID 001 on Friday:  12\n",
      "Enter the milk yield for evening milking session for Cow ID 001 on Friday:  12\n",
      "Enter the milk yield for morning milking session for Cow ID 001 on Saturday:  12\n",
      "Enter the milk yield for evening milking session for Cow ID 001 on Saturday:  12\n",
      "Enter the milk yield for morning milking session for Cow ID 001 on Sunday:  12\n",
      "Enter the milk yield for evening milking session for Cow ID 001 on Sunday:  12\n"
     ]
    },
    {
     "name": "stdout",
     "output_type": "stream",
     "text": [
      "Recording milk yields for Cow ID 002:\n"
     ]
    },
    {
     "name": "stdin",
     "output_type": "stream",
     "text": [
      "Enter the milk yield for morning milking session for Cow ID 002 on Monday:  1\n",
      "Enter the milk yield for evening milking session for Cow ID 002 on Monday:  1\n",
      "Enter the milk yield for morning milking session for Cow ID 002 on Tuesday:  1\n",
      "Enter the milk yield for evening milking session for Cow ID 002 on Tuesday:  1\n",
      "Enter the milk yield for morning milking session for Cow ID 002 on Wednesday:  1\n",
      "Enter the milk yield for evening milking session for Cow ID 002 on Wednesday:  1\n",
      "Enter the milk yield for morning milking session for Cow ID 002 on Thursday:  1\n",
      "Enter the milk yield for evening milking session for Cow ID 002 on Thursday:  1\n",
      "Enter the milk yield for morning milking session for Cow ID 002 on Friday:  1\n",
      "Enter the milk yield for evening milking session for Cow ID 002 on Friday:  1\n",
      "Enter the milk yield for morning milking session for Cow ID 002 on Saturday:  1\n",
      "Enter the milk yield for evening milking session for Cow ID 002 on Saturday:  1\n",
      "Enter the milk yield for morning milking session for Cow ID 002 on Sunday:  1\n",
      "Enter the milk yield for evening milking session for Cow ID 002 on Sunday:  1\n"
     ]
    },
    {
     "name": "stdout",
     "output_type": "stream",
     "text": [
      "Recording milk yields for Cow ID 003:\n"
     ]
    },
    {
     "name": "stdin",
     "output_type": "stream",
     "text": [
      "Enter the milk yield for morning milking session for Cow ID 003 on Monday:  15\n",
      "Enter the milk yield for evening milking session for Cow ID 003 on Monday:  15\n",
      "Enter the milk yield for morning milking session for Cow ID 003 on Tuesday:  15\n",
      "Enter the milk yield for evening milking session for Cow ID 003 on Tuesday:  15\n",
      "Enter the milk yield for morning milking session for Cow ID 003 on Wednesday:  15\n",
      "Enter the milk yield for evening milking session for Cow ID 003 on Wednesday:  15\n",
      "Enter the milk yield for morning milking session for Cow ID 003 on Thursday:  15\n",
      "Enter the milk yield for evening milking session for Cow ID 003 on Thursday:  15\n",
      "Enter the milk yield for morning milking session for Cow ID 003 on Friday:  15\n",
      "Enter the milk yield for evening milking session for Cow ID 003 on Friday:  15\n",
      "Enter the milk yield for morning milking session for Cow ID 003 on Saturday:  1\n",
      "Enter the milk yield for evening milking session for Cow ID 003 on Saturday:  1\n",
      "Enter the milk yield for morning milking session for Cow ID 003 on Sunday:  1\n",
      "Enter the milk yield for evening milking session for Cow ID 003 on Sunday:  1\n"
     ]
    }
   ],
   "source": [
    "# Record milk yields for each cow\n",
    "recordMilkYield(cows)"
   ]
  },
  {
   "cell_type": "markdown",
   "id": "76a0e684-56d4-4e83-8b81-35c50c3ce541",
   "metadata": {},
   "source": [
    "#### Calculate the statistics. \n",
    "##### Using your recorded data from TASK 1, calculate and display the total weekly volume of milk for the herd to the nearest whole litre. Calculate and display the average yield per cow in a week to the nearest whole litre. e.\r"
   ]
  },
  {
   "cell_type": "code",
   "execution_count": 6,
   "id": "968fd824-0ac6-4222-9043-6e2ed39b36f7",
   "metadata": {},
   "outputs": [
    {
     "name": "stdout",
     "output_type": "stream",
     "text": [
      "<------------------------------------>\n",
      "Cow ID 001 weekly yield: 168.0 litres\n",
      "<------------------------------------>\n",
      "Cow ID 002 weekly yield: 14.0 litres\n",
      "<------------------------------------>\n",
      "Cow ID 003 weekly yield: 154.0 litres\n",
      "\n",
      "Total weekly volume of milk for the herd: 336 litres\n",
      "Average yield per cow in a week: 112.0 litres\n"
     ]
    }
   ],
   "source": [
    "# Calculate statistics/yeilds for each cow\n",
    "calculateStatistics(cows)"
   ]
  },
  {
   "cell_type": "markdown",
   "id": "e9aa6119-87c5-43a3-804e-bbf7bafc95a3",
   "metadata": {},
   "source": [
    "#### Task3\n",
    "##### Identify the most productive cow and cows that are producing a low volume of milk. Extend TASK 2 to identify and display the identity code number and weekly yield of the cow that has produced the most milk. Also identify and display the identity code numbers of any cows with a yield of less than 12 litres of milk for four days or more in the week.ek."
   ]
  },
  {
   "cell_type": "code",
   "execution_count": 7,
   "id": "87dbd2eb-35a8-4151-8ede-4c2f9668ccfa",
   "metadata": {},
   "outputs": [
    {
     "name": "stdout",
     "output_type": "stream",
     "text": [
      "\n",
      "The most productive cow this week is Cow ID 001 with a weekly yield of 168.0 litres.\n",
      "\n",
      "The following cows had four consecutive days with less than 12 litres of milk yield:\n",
      "Cow ID 002\n"
     ]
    }
   ],
   "source": [
    "# Identify cows with yeilds less than 12 litres for more than 4 days in a week \n",
    "identifyCows(cows)"
   ]
  }
 ],
 "metadata": {
  "kernelspec": {
   "display_name": "Python 3 (ipykernel)",
   "language": "python",
   "name": "python3"
  },
  "language_info": {
   "codemirror_mode": {
    "name": "ipython",
    "version": 3
   },
   "file_extension": ".py",
   "mimetype": "text/x-python",
   "name": "python",
   "nbconvert_exporter": "python",
   "pygments_lexer": "ipython3",
   "version": "3.12.1"
  }
 },
 "nbformat": 4,
 "nbformat_minor": 5
}
