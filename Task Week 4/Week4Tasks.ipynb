{
 "cells": [
  {
   "cell_type": "markdown",
   "id": "c280ec26-80e1-4477-937d-5b8007232c35",
   "metadata": {},
   "source": [
    "<center>\n",
    "<h1 style=\"font-family: sans-serif\">Articicial Intelligence Community Pakistan</h1>\n",
    "<h2 style=\"font-family: sans-serif\">Coding Internship</h3>\n",
    "<h3 style=\"font-family: sans-serif\">Task Week 4</h4>\n",
    "<h4 style=\"font-family: sans-serif\">Rana Fahad Aman</h4>\n",
    "</center>"
   ]
  },
  {
   "cell_type": "code",
   "execution_count": null,
   "id": "3bfc1c02-3a47-41d5-bcb7-5f89fd1b3c22",
   "metadata": {},
   "outputs": [],
   "source": []
  }
 ],
 "metadata": {
  "kernelspec": {
   "display_name": "",
   "name": ""
  },
  "language_info": {
   "name": ""
  }
 },
 "nbformat": 4,
 "nbformat_minor": 5
}
