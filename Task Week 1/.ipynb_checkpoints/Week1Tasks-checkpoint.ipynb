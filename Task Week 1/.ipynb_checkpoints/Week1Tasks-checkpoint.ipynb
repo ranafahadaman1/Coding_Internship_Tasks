{
 "cells": [
  {
   "cell_type": "markdown",
   "id": "d987f425-8575-4dab-bfb4-1b20aceac6d2",
   "metadata": {},
   "source": [
    "<center>\n",
    "<h1 style=\"font-family: sans-serif\">Articicial Intelligence Community Pakistan</h1>\n",
    "<h2 style=\"font-family: sans-serif\">Coding Internship</h3>\n",
    "<h3 style=\"font-family: sans-serif\">Task Week 1</h4>\n",
    "<h4 style=\"font-family: sans-serif\">Rana Fahad Aman</h4>\n",
    "</center>"
   ]
  },
  {
   "cell_type": "markdown",
   "id": "b01e966b-0a17-4e2e-9566-0747417b0598",
   "metadata": {},
   "source": [
    "### Task 1"
   ]
  },
  {
   "cell_type": "code",
   "execution_count": 1,
   "id": "8334256f-65fa-4f59-bb40-4dc96e900851",
   "metadata": {},
   "outputs": [
    {
     "data": {
      "text/plain": [
       "'\\nA school keeps records of the weights of each pupil. The weight, in kilograms, of each pupil is recorded on the first day of term. Input and store the weights and names recorded for a class of 30 pupils. You must store the weights in a one-dimensional array and the names in another one-dimensional array. All the weights must be validated on entry and any invalid weights rejected. You must decide your own validation rules. You may assume that the pupils’ names are unique. Output the names and weights of the pupils in the class.\\n'"
      ]
     },
     "execution_count": 1,
     "metadata": {},
     "output_type": "execute_result"
    }
   ],
   "source": [
    "\"\"\"\n",
    "A school keeps records of the weights of each pupil. The weight, in kilograms, of each pupil is recorded on the first day of term. Input and store the weights and names recorded for a class of 30 pupils. You must store the weights in a one-dimensional array and the names in another one-dimensional array. All the weights must be validated on entry and any invalid weights rejected. You must decide your own validation rules. You may assume that the pupils’ names are unique. Output the names and weights of the pupils in the class.\n",
    "\"\"\""
   ]
  },
  {
   "cell_type": "code",
   "execution_count": 2,
   "id": "179892f8-bec1-4fb7-b611-e64c788e803b",
   "metadata": {},
   "outputs": [
    {
     "name": "stdin",
     "output_type": "stream",
     "text": [
      "Enter Student#1 Name:  Rana Fahad Aman\n"
     ]
    },
    {
     "name": "stdout",
     "output_type": "stream",
     "text": [
      "Student record not found.\n"
     ]
    },
    {
     "name": "stdin",
     "output_type": "stream",
     "text": [
      "Enter Student#1 Weight:  100\n"
     ]
    },
    {
     "name": "stdout",
     "output_type": "stream",
     "text": [
      "\n",
      "\n"
     ]
    },
    {
     "name": "stdin",
     "output_type": "stream",
     "text": [
      "Enter Student#2 Name:  Daud Hassan\n"
     ]
    },
    {
     "name": "stdout",
     "output_type": "stream",
     "text": [
      "Student record not found.\n"
     ]
    },
    {
     "name": "stdin",
     "output_type": "stream",
     "text": [
      "Enter Student#2 Weight:  200\n"
     ]
    },
    {
     "name": "stdout",
     "output_type": "stream",
     "text": [
      "\n",
      "\n"
     ]
    },
    {
     "name": "stdin",
     "output_type": "stream",
     "text": [
      "Enter Student#3 Name:  Junaid Salman\n"
     ]
    },
    {
     "name": "stdout",
     "output_type": "stream",
     "text": [
      "Student record not found.\n"
     ]
    },
    {
     "name": "stdin",
     "output_type": "stream",
     "text": [
      "Enter Student#3 Weight:  210\n"
     ]
    },
    {
     "name": "stdout",
     "output_type": "stream",
     "text": [
      "\n",
      "\n",
      "Student First Weight not within valid bounds. (>20 and <200)\n"
     ]
    },
    {
     "name": "stdin",
     "output_type": "stream",
     "text": [
      "Enter Student#4 Name:  Afaan Kamran\n"
     ]
    },
    {
     "name": "stdout",
     "output_type": "stream",
     "text": [
      "Student record not found.\n"
     ]
    },
    {
     "name": "stdin",
     "output_type": "stream",
     "text": [
      "Enter Student#4 Weight:  150\n"
     ]
    },
    {
     "name": "stdout",
     "output_type": "stream",
     "text": [
      "\n",
      "\n",
      "\n",
      "Student Names:  ['Rana Fahad Aman', 'Afaan Kamran']\n",
      "Student First Day Weights:  [100, 150]\n",
      "\n",
      "\n",
      "Rana Fahad Aman(Student#0) has 100 kilograms weight.\n",
      "Afaan Kamran(Student#1) has 150 kilograms weight.\n"
     ]
    }
   ],
   "source": [
    "firstDayWeights = []\n",
    "studentNames = []\n",
    "\n",
    "studentName = \"\"\n",
    "studentFirstWeight = 0\n",
    "\n",
    "#Let's define the validation rules:\n",
    "#1) The weight can not be in the negative\n",
    "#2) The weight can not be less than 20 kilograms\n",
    "#3) The weight can not be more than 200 kilograms\n",
    "#4) Students/Pupils names are unique\n",
    "\n",
    "for i in range(1,5):\n",
    "    studentName = str(input(f\"Enter Student#{i} Name: \"))\n",
    "    if studentName not in studentNames:\n",
    "        print(\"Student record not found.\")\n",
    "        studentFirstWeight = int(input(f\"Enter Student#{i} Weight: \"))\n",
    "        if (studentFirstWeight > 20 and studentFirstWeight < 200):\n",
    "            studentNames.append(studentName) \n",
    "            firstDayWeights.append(studentFirstWeight)\n",
    "        elif(studentFirstWeight >= 200 or studentFirstWeight  =< 20):\n",
    "            print(\"Student First Weight not within valid bounds. (>20 and <200)\\n\")\n",
    "    elif(studentName in studentNames):\n",
    "        print(\"Student first weight data already in record.\")\n",
    "\n",
    "print(\"\\nStudent Names: \",studentNames)\n",
    "print(\"Student First Day Weights: \", firstDayWeights)\n",
    "print(\"\\n\")\n",
    "for i in range(0,len(studentNames)):\n",
    "    print(f\"{studentNames[i]}(Student#{i}) has {firstDayWeights[i]} kilograms weight.\")"
   ]
  },
  {
   "cell_type": "markdown",
   "id": "2831332a-e43d-44f1-bedb-df499a62735d",
   "metadata": {},
   "source": [
    "### Task 2"
   ]
  },
  {
   "cell_type": "code",
   "execution_count": 3,
   "id": "c013f5be-d001-4be9-ace8-72905d81f3d7",
   "metadata": {},
   "outputs": [
    {
     "data": {
      "text/plain": [
       "'\\nThe weight, in kilograms, of each pupil is recorded again on the last day of term. Calculate and store the difference in weight for each pupil.\\n'"
      ]
     },
     "execution_count": 3,
     "metadata": {},
     "output_type": "execute_result"
    }
   ],
   "source": [
    "\"\"\"\n",
    "The weight, in kilograms, of each pupil is recorded again on the last day of term. Calculate and store the difference in weight for each pupil.\n",
    "\"\"\""
   ]
  },
  {
   "cell_type": "code",
   "execution_count": null,
   "id": "6888e3e1-2cd3-4f23-ad6f-fad5d8acf933",
   "metadata": {},
   "outputs": [],
   "source": [
    "lastDayWeights = []\n",
    "studentLastWeight = 0\n",
    "weightDifferences = []\n",
    "\n",
    "for i in range(0, len(studentNames)):\n",
    "    lastDayWeights.append(int(input(f\"Enter the weight recorded on last day of term for Student#{i}: \")))\n",
    "\n",
    "for i in range(0, len(studentNames)):\n",
    "    weightDifferences.append(lastDayWeights[i] - firstDayWeights[i])\n",
    "\n",
    "print(\"Student Last Day Weights: \", lastDayWeights)\n",
    "print(\"Weight Differences: \", weightDifferences)"
   ]
  },
  {
   "cell_type": "markdown",
   "id": "801d676b-f3ec-4e27-bf17-806fd019d744",
   "metadata": {},
   "source": [
    "### Task 3"
   ]
  },
  {
   "cell_type": "code",
   "execution_count": null,
   "id": "265cf742-7279-4545-acae-faa074f8498d",
   "metadata": {},
   "outputs": [],
   "source": [
    "\"\"\"\n",
    "For those pupils who have a difference in weight of more than 2.5 kilograms, output, with a suitable message, the pupil’s name, the difference in weight and whether this is a rise or a fall. Your program must include appropriate prompts for the entry of data. Error messages and other outputs need to be set out clearly and understandably. All variables, constants and other identifiers must have meaningful names. Each task must be fully tested.\n",
    "\"\"\""
   ]
  },
  {
   "cell_type": "code",
   "execution_count": null,
   "id": "7eebec2d-4281-48a8-aae2-66c5e5cbe8fb",
   "metadata": {},
   "outputs": [],
   "source": [
    "for i in range(0, len(studentNames)):\n",
    "    \n",
    "    if(weightDifferences[i]>0):\n",
    "        if(weightDifferences[i]>2.5):\n",
    "            print(f\"{studentNames[i]} has a rise of {weightDifferences[i]} kilograms in weight.\")\n",
    "        else:\n",
    "            print(f\"{studentNames[i]} has a rise in weight but not significantly.\")\n",
    "            \n",
    "    elif(weightDifferences[i]<0):\n",
    "        if(abs(weightDifferences[i])>2.5):\n",
    "            print(f\"{studentNames[i]} has a fall of {abs(weightDifferences[i])} kilograms in weight.\")\n",
    "        else:\n",
    "            print(f\"{studentNames[i]} has a fall in weight but not significantly.\")\n",
    "    \n",
    "    else:\n",
    "        print(f\"{studentNames[i]} does not have a change in weight.\")\n",
    "        "
   ]
  }
 ],
 "metadata": {
  "kernelspec": {
   "display_name": "Python 3 (ipykernel)",
   "language": "python",
   "name": "python3"
  },
  "language_info": {
   "codemirror_mode": {
    "name": "ipython",
    "version": 3
   },
   "file_extension": ".py",
   "mimetype": "text/x-python",
   "name": "python",
   "nbconvert_exporter": "python",
   "pygments_lexer": "ipython3",
   "version": "3.12.1"
  }
 },
 "nbformat": 4,
 "nbformat_minor": 5
}
